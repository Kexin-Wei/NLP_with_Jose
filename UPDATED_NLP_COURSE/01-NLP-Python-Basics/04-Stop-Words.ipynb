{
 "cells": [
  {
   "cell_type": "markdown",
   "source": [
    "___\n",
    "\n",
    "<a href='http://www.pieriandata.com'> <img src='../Pierian_Data_Logo.png' /></a>\n",
    "___"
   ],
   "metadata": {}
  },
  {
   "cell_type": "markdown",
   "source": [
    "# Stop Words\n",
    "Words like \"a\" and \"the\" appear so frequently that they don't require tagging as thoroughly as nouns, verbs and modifiers. We call these *stop words*, and they can be filtered from the text to be processed. spaCy holds a built-in list of some 305 English stop words."
   ],
   "metadata": {}
  },
  {
   "cell_type": "code",
   "execution_count": 1,
   "source": [
    "# Perform standard imports:\n",
    "import spacy\n",
    "nlp = spacy.load('en_core_web_sm')"
   ],
   "outputs": [],
   "metadata": {}
  },
  {
   "cell_type": "code",
   "execution_count": 2,
   "source": [
    "# Print the set of spaCy's default stop words (remember that sets are unordered):\n",
    "print(nlp.Defaults.stop_words)"
   ],
   "outputs": [
    {
     "output_type": "stream",
     "name": "stdout",
     "text": [
      "{'whereupon', 'our', 'twenty', 'many', 'me', 'him', 'why', 'though', 'are', 'below', 'otherwise', 'already', 'seemed', 'one', 'over', 'herself', 'less', 'did', 'himself', 'per', 'them', 'anyhow', 'none', 'bottom', 'whereas', 'yourselves', 'has', 'cannot', 'he', 'hence', 'go', 'other', 'various', 'every', 'three', 'own', 'amount', 'above', 'while', 'both', 'i', 'through', 'up', 'upon', 'wherever', 'perhaps', 'take', 'anywhere', 'too', 'from', 'give', 'although', 'about', 'everyone', 'besides', 'former', 'if', 'part', 'thus', 'any', 'therefore', 'ten', 'whence', 'another', 'they', 'say', 'since', 'sixty', 'you', 'five', 'hundred', 'nor', 'third', 'move', 'toward', 'in', 'again', 'their', 'and', 'thru', 'made', 'keep', 'ever', 'nobody', 'nevertheless', 'several', 'thereupon', 'his', 'name', 'regarding', 'were', 'still', 'before', 'whom', 'not', 'off', 'seems', 'been', 'nine', 'so', 'therein', 'but', 'by', 'all', 'should', 'must', 'ourselves', 'often', 'than', 'my', 'side', 'unless', 'behind', 'until', 'does', 'have', 'just', 'among', 'together', 'few', 'herein', 'would', 'how', 'even', 'enough', 'had', 'sometime', 'what', 'rather', 'become', 'whereby', 'except', 'some', 'back', 'becomes', 'beyond', 'afterwards', 'someone', 'next', 'on', 'whither', 'fifty', 'hereupon', 'please', 'then', 'sometimes', 'first', 'very', 'might', 'anything', 'hereby', 'or', 'ca', 'whole', 'themselves', 'doing', 'along', 'hers', 'with', 'without', 'somehow', 'here', 'empty', 'may', 'across', 'done', 'onto', 'hereafter', 'quite', 'thereafter', 'being', 'this', 'no', 'seem', 'thence', 'almost', 'can', 'else', 'where', 'we', 'your', 're', 'be', 'am', 'never', 'two', 'however', 'top', 'of', 'put', 'either', 'noone', 'yours', 'once', 'anyone', 'who', 'is', 'formerly', 'more', 'thereby', 'now', 'when', 'yourself', 'well', 'the', 'wherein', 'everywhere', 'fifteen', 'latterly', 'after', 'she', 'show', 'during', 'make', 'due', 'towards', 'latter', 'yet', 'front', 'whoever', 'such', 'beforehand', 'call', 'nothing', 'whatever', 'whenever', 'whose', 'itself', 'becoming', 'eight', 'became', 'via', 'full', 'namely', 'much', 'somewhere', 'to', 'us', 'used', 'further', 'also', 'those', 'within', 'a', 'most', 'get', 'its', 'each', 'meanwhile', 'mostly', 'myself', 'whereafter', 'that', 'forty', 'neither', 'same', 'beside', 'twelve', 'down', 'four', 'only', 'least', 'seeming', 'was', 'moreover', 'alone', 'these', 'serious', 'because', 'using', 'amongst', 'there', 'which', 'ours', 'indeed', 'into', 'everything', 'around', 'her', 'will', 'between', 'could', 'as', 'anyway', 'last', 'see', 'mine', 'out', 'really', 'throughout', 'an', 'six', 'against', 'for', 'it', 'at', 'eleven', 'elsewhere', 'nowhere', 'whether', 'do', 'something', 'others', 'under', 'always'}\n"
     ]
    }
   ],
   "metadata": {}
  },
  {
   "cell_type": "code",
   "execution_count": 5,
   "source": [
    "len(nlp.Defaults.stop_words)"
   ],
   "outputs": [
    {
     "output_type": "execute_result",
     "data": {
      "text/plain": [
       "305"
      ]
     },
     "metadata": {},
     "execution_count": 5
    }
   ],
   "metadata": {}
  },
  {
   "cell_type": "markdown",
   "source": [
    "## To see if a word is a stop word"
   ],
   "metadata": {}
  },
  {
   "cell_type": "code",
   "execution_count": 3,
   "source": [
    "nlp.vocab['myself'].is_stop"
   ],
   "outputs": [
    {
     "output_type": "execute_result",
     "data": {
      "text/plain": [
       "True"
      ]
     },
     "metadata": {},
     "execution_count": 3
    }
   ],
   "metadata": {}
  },
  {
   "cell_type": "code",
   "execution_count": 4,
   "source": [
    "nlp.vocab['mystery'].is_stop"
   ],
   "outputs": [
    {
     "output_type": "execute_result",
     "data": {
      "text/plain": [
       "False"
      ]
     },
     "metadata": {},
     "execution_count": 4
    }
   ],
   "metadata": {}
  },
  {
   "cell_type": "markdown",
   "source": [
    "## To add a stop word\n",
    "There may be times when you wish to add a stop word to the default set. Perhaps you decide that `'btw'` (common shorthand for \"by the way\") should be considered a stop word."
   ],
   "metadata": {}
  },
  {
   "cell_type": "code",
   "execution_count": 6,
   "source": [
    "# Add the word to the set of stop words. Use lowercase!\n",
    "nlp.Defaults.stop_words.add('btw')\n",
    "\n",
    "# Set the stop_word tag on the lexeme\n",
    "nlp.vocab['btw'].is_stop = True"
   ],
   "outputs": [],
   "metadata": {}
  },
  {
   "cell_type": "code",
   "execution_count": 7,
   "source": [
    "len(nlp.Defaults.stop_words)"
   ],
   "outputs": [
    {
     "output_type": "execute_result",
     "data": {
      "text/plain": [
       "306"
      ]
     },
     "metadata": {},
     "execution_count": 7
    }
   ],
   "metadata": {}
  },
  {
   "cell_type": "code",
   "execution_count": 8,
   "source": [
    "nlp.vocab['btw'].is_stop"
   ],
   "outputs": [
    {
     "output_type": "execute_result",
     "data": {
      "text/plain": [
       "True"
      ]
     },
     "metadata": {},
     "execution_count": 8
    }
   ],
   "metadata": {}
  },
  {
   "cell_type": "markdown",
   "source": [
    "<font color=green>When adding stop words, always use lowercase. Lexemes are converted to lowercase before being added to **vocab**.</font>"
   ],
   "metadata": {}
  },
  {
   "cell_type": "markdown",
   "source": [
    "## To remove a stop word\n",
    "Alternatively, you may decide that `'beyond'` should not be considered a stop word."
   ],
   "metadata": {}
  },
  {
   "cell_type": "code",
   "execution_count": 9,
   "source": [
    "# Remove the word from the set of stop words\n",
    "nlp.Defaults.stop_words.remove('beyond')\n",
    "\n",
    "# Remove the stop_word tag from the lexeme\n",
    "nlp.vocab['beyond'].is_stop = False"
   ],
   "outputs": [],
   "metadata": {}
  },
  {
   "cell_type": "code",
   "execution_count": 10,
   "source": [
    "len(nlp.Defaults.stop_words)"
   ],
   "outputs": [
    {
     "output_type": "execute_result",
     "data": {
      "text/plain": [
       "305"
      ]
     },
     "metadata": {},
     "execution_count": 10
    }
   ],
   "metadata": {}
  },
  {
   "cell_type": "code",
   "execution_count": 11,
   "source": [
    "nlp.vocab['beyond'].is_stop"
   ],
   "outputs": [
    {
     "output_type": "execute_result",
     "data": {
      "text/plain": [
       "False"
      ]
     },
     "metadata": {},
     "execution_count": 11
    }
   ],
   "metadata": {}
  },
  {
   "cell_type": "markdown",
   "source": [
    "Great! Now you should be able to access spaCy's default set of stop words, and add or remove stop words as needed.\n",
    "## Next up: Vocabulary and Matching"
   ],
   "metadata": {}
  }
 ],
 "metadata": {
  "kernelspec": {
   "name": "python3",
   "display_name": "Python 3.7.11 64-bit ('nlp_jose': conda)"
  },
  "language_info": {
   "codemirror_mode": {
    "name": "ipython",
    "version": 3
   },
   "file_extension": ".py",
   "mimetype": "text/x-python",
   "name": "python",
   "nbconvert_exporter": "python",
   "pygments_lexer": "ipython3",
   "version": "3.7.11"
  },
  "interpreter": {
   "hash": "e75e4640d5ff591db314380ebf58a481dcfa583d18c102045d637b9bda5a1165"
  }
 },
 "nbformat": 4,
 "nbformat_minor": 2
}